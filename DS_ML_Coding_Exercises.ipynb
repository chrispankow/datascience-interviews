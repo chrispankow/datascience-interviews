{
  "nbformat": 4,
  "nbformat_minor": 0,
  "metadata": {
    "colab": {
      "provenance": [],
      "authorship_tag": "ABX9TyOCEq6wxevXB8Rso4w4q1i7",
      "include_colab_link": true
    },
    "kernelspec": {
      "name": "python3",
      "display_name": "Python 3"
    },
    "language_info": {
      "name": "python"
    }
  },
  "cells": [
    {
      "cell_type": "markdown",
      "metadata": {
        "id": "view-in-github",
        "colab_type": "text"
      },
      "source": [
        "<a href=\"https://colab.research.google.com/github/chrispankow/datascience-interviews/blob/main/DS_ML_Coding_Exercises.ipynb\" target=\"_parent\"><img src=\"https://colab.research.google.com/assets/colab-badge.svg\" alt=\"Open In Colab\"/></a>"
      ]
    },
    {
      "cell_type": "markdown",
      "source": [
        "# Coding Exercise: Sudoku Solution Checking\n",
        "\n",
        "Write a program to verify a Sudoku puzzle solution. A sudoku valid solution must satisfy all of the following rules:\n",
        "\n",
        " - Each of the digits 1-9 must occur exactly once in each row.\n",
        " - Each of the digits 1-9 must occur exactly once in each column.\n",
        " - Each of the digits 1-9 must occur exactly once in each of the 9 3x3 sub-boxes of the grid.\n",
        "\n",
        "The solution should return `True` when the provided solution is valid and `False` when it is not."
      ],
      "metadata": {
        "id": "gxjRodiD_MwB"
      }
    },
    {
      "cell_type": "code",
      "execution_count": 2,
      "metadata": {
        "id": "q7ANGpuz-8mS"
      },
      "outputs": [],
      "source": [
        "solution1 = [\n",
        "    [5, 3, 4, 6, 7, 8, 9, 1, 2],\n",
        "    [6, 7, 2, 1, 9, 5, 3, 4, 8],\n",
        "    [1, 9, 8, 3, 4, 2, 5, 6, 7],\n",
        "    [8, 5, 9, 7, 6, 1, 4, 2, 3],\n",
        "    [4, 2, 6, 8, 5, 3, 7, 9, 1],\n",
        "    [7, 1, 3, 9, 2, 4, 8, 5, 6],\n",
        "    [9, 6, 1, 5, 3, 7, 2, 8, 4],\n",
        "    [2, 8, 7, 4, 1, 9, 6, 3, 5],\n",
        "    [6, 4, 5, 2, 8, 6, 1, 7, 9]\n",
        "]\n",
        "\n",
        "solution2 = [\n",
        "    [1, 2, 3, 4, 5, 7, 8, 6, 9],\n",
        "    [2, 5, 4, 1, 9, 6, 2, 7, 3],\n",
        "    [6, 7, 9, 2, 8, 3, 1, 4, 5],\n",
        "    [7, 4, 5, 9, 3, 1, 6, 8, 2],\n",
        "    [3, 1, 6, 8, 2, 4, 5, 9, 7],\n",
        "    [9, 8, 2, 7, 6, 5, 4, 3, 1],\n",
        "    [8, 9, 1, 4, 7, 2, 3, 5, 6],\n",
        "    [4, 3, 7, 6, 5, 1, 9, 1, 8],\n",
        "    [5, 6, 8, 3, 1, 9, 7, 2, 4]\n",
        "]"
      ]
    },
    {
      "cell_type": "markdown",
      "source": [
        "# Coding Exercise: Logistic Regression\n",
        "\n",
        "Develop a model which predicts `target_class` given the four features. Any method you'd like to use is permissible. Please also provide summary metrics to describe the performance of your model. You may use whatever libraries you deem appropriate.\n",
        "\n",
        "_NOTE_: The solution here should be **functional**, but need not be **optimal**.\n",
        "\n",
        "The supplied dataset has four features: `feature_1`, `feature_2`, `feature_3`, `feature_4` and a column with the target, called `target`. `feature_1` and `target_class` are categorical, and the remaining features are continuous and numeric.\n",
        "\n",
        "You can upload this dataset to the notebook server by clicking on the folder icon on the left sidebar, the clicking the file with an up arrow (first icon in the top bar below \"Files\"). You may read it in any way you prefer, but an example is provided below."
      ],
      "metadata": {
        "id": "JaAyzZSe_sq1"
      }
    },
    {
      "cell_type": "markdown",
      "source": [
        "# Coding Exercise: SQL and Data Retrieval\n",
        "\n",
        "Load the following database table and insert the proper SQL to answer the following questions:\n",
        "\n",
        "\n",
        "1.   Get the number of ad requests per website\n",
        "2.   For each website, what is the average bid price per advertiser\n",
        "3.   Find the website with the highest percentage of requests that had bids\n",
        "\n"
      ],
      "metadata": {
        "id": "bgB-_ukpAc50"
      }
    },
    {
      "cell_type": "code",
      "source": [
        "import sqlite3\n",
        "\n",
        "db = sqlite3.connect(\":memory:\")\n",
        "with db:\n",
        "  db.cursor().execute(\"\"\"\n",
        "  CREATE TABLE ad_requests (\n",
        "    id INTEGER PRIMARY KEY AUTOINCREMENT,\n",
        "    website_id  INT NOT NULL,\n",
        "    advertiser_id INT NULL,\n",
        "    bid           INT NULL\n",
        ");\n",
        "  \"\"\")\n",
        "\n",
        "  db.cursor().execute(\"\"\"\n",
        "CREATE TABLE websites (\n",
        "    id INT NOT NULL,\n",
        "    name        VARCHAR(100),\n",
        "\n",
        "    PRIMARY KEY (id)\n",
        ");\n",
        "  \"\"\")\n",
        "\n",
        "  db.cursor().execute(\"\"\"\n",
        "CREATE TABLE advertisers (\n",
        "    id INT NOT NULL,\n",
        "    name        VARCHAR(100),\n",
        "\n",
        "    PRIMARY KEY (id)\n",
        ");\n",
        "  \"\"\")\n",
        "\n",
        "  db.cursor().execute(\"\"\"\n",
        "INSERT INTO `ad_requests` (`website_id`, `advertiser_id`, `bid`)\n",
        "VALUES (1, 1, 200),\n",
        "       (1, NULL, NULL),\n",
        "       (1, 2, 100),\n",
        "       (1, 2, 200),\n",
        "       (1, NULL, NULL),\n",
        "       (1, NULL, NULL),\n",
        "       (1, 2, 300),\n",
        "       (1, 2, 150),\n",
        "       (1, NULL, NULL),\n",
        "       (1, NULL, NULL),\n",
        "       (2, NULL, NULL),\n",
        "       (2, NULL, NULL),\n",
        "       (2, NULL, NULL),\n",
        "       (2, NULL, NULL),\n",
        "       (2, 3, 500),\n",
        "       (2, 3, 1000),\n",
        "       (2, 1, 200),\n",
        "       (2, NULL, NULL),\n",
        "       (2, 2, 300),\n",
        "       (3, 3, 50),\n",
        "       (3, NULL, NULL),\n",
        "       (3, NULL, NULL),\n",
        "       (3, 1, 20),\n",
        "       (3, 2, 30),\n",
        "       (3, 3, 100),\n",
        "       (3, NULL, NULL),\n",
        "       (3, 1, 100);\n",
        "  \"\"\")\n",
        "\n",
        "  db.cursor().execute(\"\"\"\n",
        "INSERT INTO `websites` (`id`, `name`)\n",
        "VALUES\n",
        "  (1, 'New York Times'),\n",
        "  (2, 'Fox News'),\n",
        "  (3, 'Verizon Media');\n",
        "  \"\"\")\n",
        "\n",
        "  db.cursor().execute(\"\"\"\n",
        "INSERT INTO `advertisers` (`id`, `name`)\n",
        "VALUES\n",
        "  (1, 'Google'),\n",
        "  (2, 'The Trade Desk'),\n",
        "  (3, 'AOL Video');\n",
        "  \"\"\")"
      ],
      "metadata": {
        "id": "TX8QNrrJAxgi"
      },
      "execution_count": 24,
      "outputs": []
    },
    {
      "cell_type": "code",
      "source": [
        "with db:\n",
        "  result = db.cursor().execute(\"\"\"\n",
        "  \"\"\").fetchall()"
      ],
      "metadata": {
        "id": "O2sbP9Z5qXkI"
      },
      "execution_count": 23,
      "outputs": []
    },
    {
      "cell_type": "code",
      "source": [],
      "metadata": {
        "id": "0sS5xqiysgxW"
      },
      "execution_count": null,
      "outputs": []
    }
  ]
}